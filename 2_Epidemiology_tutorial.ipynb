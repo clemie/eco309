{
 "cells": [
  {
   "cell_type": "markdown",
   "metadata": {},
   "source": [
    "# Computational Economics  (ECO288)\n",
    "\n",
    "## Tutorial: Epidemiology Models\n",
    "\n",
    "\n",
    "H.W. Heathcote: epidemiologic models are *deterministic models for infectious diseases which are spread by direct person-to-person contact in a population*.\n",
    "\n",
    "This kind of models has been used since by a few decades by economist, for matters that have nothing to do with health.\n",
    "\n",
    "- diffusion of information, or opinions on social medias\n",
    "- asset prices and fads\n",
    "- expectation formation for macroeconomic outcomes (ex: *The Epidemiology of Macroeconomic Expectations* by Chris Carroll)\n",
    "\n",
    "Epidemiologic models have two features that depart from standard economic models:\n",
    "\n",
    "- Agent's behaviour does not take the full system into account, an is irrational in the sense that it isn't forwards looking. Instead, an agent is given a behavioural heuristic.\n",
    "- The transitions of the whole system can be determined without solving for complex interactions first.\n",
    "\n",
    "Understanding why these two assumptions are very costly for economists will keep us busy during a big part of the course. Here we just consider two simple models as small programming exercises."
   ]
  },
  {
   "cell_type": "markdown",
   "metadata": {},
   "source": [
    "### Simple SIR model\n",
    "\n",
    "There is a continuum of agents of mass $1$. Each agent can be either \"Susceptible\" (S), \"Infected\" (I) or \"Recovered\" (R).\n",
    "Agents meet randomly. Each agent neets another agent drawn randomly at each period.\n",
    "\n",
    "During a meeting Susceptible agents would meet an Infected agent will always catch the disease (or the fad), but are not contagious. Infected agents, have a probability $\\pi$ of being recovered. No distinction is made between recovering as a healthy or a dead person.\n",
    "\n",
    "We're interested in the evolution in the number infected persons, both the speed of infection and the total amount of infected people in every period."
   ]
  },
  {
   "cell_type": "markdown",
   "metadata": {},
   "source": [
    "__Write down the transition equations for $n_I$, the number of infected people, for $n_R$ the number of recovered people and $n_S$ the number of susceptible people.__\n",
    "\n"
   ]
  },
  {
   "cell_type": "markdown",
   "metadata": {},
   "source": [
    "$n_{R,t} = n_{R,t-1} + n_{I,t-1}*\\pi$\n",
    "\n",
    "$n_{I,t} = n_{I,t-1} \\underbrace{- n_{I,t-1}*\\pi}_{\\text{ those who have recovered}} + \\mu n_{S,t-1} \\frac{ n_{I,t-1}}{1}  $\n",
    "\n",
    "$n_{S,t} = n_{S,t-1} - \\frac{ n_{I,t-1}}{1} $\n",
    "\n",
    "recall that $1= n_I +n_R +n_S$"
   ]
  },
  {
   "cell_type": "markdown",
   "metadata": {},
   "source": [
    "__Compute the transition function f for the vector state $s_t$ returning $s_{t+1}t$__\n",
    "\n"
   ]
  },
  {
   "cell_type": "code",
   "execution_count": 3,
   "metadata": {},
   "outputs": [
    {
     "data": {
      "text/plain": [
       "0.02"
      ]
     },
     "execution_count": 3,
     "metadata": {},
     "output_type": "execute_result"
    }
   ],
   "source": [
    "Π = 0.02"
   ]
  },
  {
   "cell_type": "code",
   "execution_count": 4,
   "metadata": {},
   "outputs": [
    {
     "data": {
      "text/plain": [
       "f (generic function with 1 method)"
      ]
     },
     "execution_count": 4,
     "metadata": {},
     "output_type": "execute_result"
    }
   ],
   "source": [
    "function f(s)\n",
    "    n_S ,n_I, n_R = s\n",
    "    new_recovered = n_I*Π\n",
    "    new_infected = n_S*n_I\n",
    "    nn_S = n_S - new_infected\n",
    "    nn_R = n_R + new_recovered\n",
    "    nn_I = n_I + new_infected -new_recovered\n",
    "    #nnR+nnS+nnI = 1\n",
    "    return [nn_S,nn_I,nn_R]\n",
    "end\n",
    "    "
   ]
  },
  {
   "cell_type": "code",
   "execution_count": 5,
   "metadata": {},
   "outputs": [
    {
     "data": {
      "text/plain": [
       "3-element Array{Float64,1}:\n",
       " 0.18\n",
       " 0.512\n",
       " 0.308"
      ]
     },
     "execution_count": 5,
     "metadata": {},
     "output_type": "execute_result"
    }
   ],
   "source": [
    "f([0.3,0.4,0.3])"
   ]
  },
  {
   "cell_type": "markdown",
   "metadata": {},
   "source": [
    "__Compute the transitions over $T$ periods. Plot the result using Plots.jl. (bonus: check against closed form solution)__\n",
    "\n"
   ]
  },
  {
   "cell_type": "code",
   "execution_count": 6,
   "metadata": {},
   "outputs": [],
   "source": [
    "T = 100\n",
    "v0 = [0.3,0.4,0.3]\n",
    "sim = Vector{Float64}[]\n",
    "for t = 1:T\n",
    "    push!(sim,v0)\n",
    "    v1 = f(v0)\n",
    "    v0 = v1\n",
    "end"
   ]
  },
  {
   "cell_type": "code",
   "execution_count": 7,
   "metadata": {
    "scrolled": true
   },
   "outputs": [
    {
     "data": {
      "text/plain": [
       "100-element Array{Array{Float64,1},1}:\n",
       " [0.3, 0.4, 0.3]\n",
       " [0.18, 0.512, 0.308]\n",
       " [0.08784, 0.59392, 0.31824]\n",
       " [0.0356700672, 0.6342115328000001, 0.33011840000000003]\n",
       " [0.013047699206008994, 0.6441496701379911, 0.34280263065600003]\n",
       " [0.004643028066398573, 0.6396713478748417, 0.35568562405875986]\n",
       " [0.0016730160449446776, 0.6298479329387987, 0.3684790510162567]\n",
       " [0.000619270347262828, 0.6183047199777045, 0.3810760096750327]\n",
       " [0.0002363725686079893, 0.6063215233568053, 0.3934421040745868]\n",
       " [9.305479272983224e-5, 0.5943384106655474, 0.4055685345417229]\n",
       " [3.774875511397181e-5, 0.5825069484898523, 0.4174553027550339]\n",
       " [1.5759842963241384e-5, 0.570878798432206, 0.42910544172483095]\n",
       " [6.762882748905886e-6, 0.5594702194237762, 0.44052301769347507]\n",
       " ⋮\n",
       " [1.0326434722415801e-17, 0.12049365396965583, 0.8795063460303442]\n",
       " [9.082164870232792e-18, 0.11808378089026272, 0.8819162191097373]\n",
       " [8.009708503686981e-18, 0.11572210527245747, 0.8842778947275425]\n",
       " [7.082808173021619e-18, 0.11340766316700832, 0.8865923368329917]\n",
       " [6.2795634494590494e-18, 0.11113950990366815, 0.8888604900963318]\n",
       " [5.581655845277183e-18, 0.10891671970559479, 0.8910832802944052]\n",
       " [4.973720200084033e-18, 0.10673838531148289, 0.8932616146885171]\n",
       " [4.442833336935958e-18, 0.10460361760525323, 0.8953963823947467]\n",
       " [3.9780968974752375e-18, 0.10251154525314816, 0.8974884547468518]\n",
       " [3.5702960373482966e-18, 0.1004613143480852, 0.8995386856519147]\n",
       " [3.2116194048245265e-18, 0.09845208806112349, 0.9015479119388764]\n",
       " [2.895428768361929e-18, 0.09648304629990102, 0.9035169537000989]"
      ]
     },
     "execution_count": 7,
     "metadata": {},
     "output_type": "execute_result"
    }
   ],
   "source": [
    "sim"
   ]
  },
  {
   "cell_type": "code",
   "execution_count": 8,
   "metadata": {},
   "outputs": [
    {
     "name": "stderr",
     "output_type": "stream",
     "text": [
      "\u001b[32m\u001b[1m   Updating\u001b[22m\u001b[39m registry at `~/.juliapro/JuliaPro_v1.4.0-1/registries/JuliaPro`\n",
      "######################################################################### 100.0%\n",
      "\u001b[32m\u001b[1m  Resolving\u001b[22m\u001b[39m package versions...\n",
      "\u001b[32m\u001b[1m   Updating\u001b[22m\u001b[39m `~/.juliapro/JuliaPro_v1.4.0-1/environments/v1.4/Project.toml`\n",
      "\u001b[90m [no changes]\u001b[39m\n",
      "\u001b[32m\u001b[1m   Updating\u001b[22m\u001b[39m `~/.juliapro/JuliaPro_v1.4.0-1/environments/v1.4/Manifest.toml`\n",
      "\u001b[90m [no changes]\u001b[39m\n"
     ]
    }
   ],
   "source": [
    "import Pkg\n",
    "Pkg.add(\"Plots\")"
   ]
  },
  {
   "cell_type": "code",
   "execution_count": 9,
   "metadata": {},
   "outputs": [],
   "source": [
    "using Plots"
   ]
  },
  {
   "cell_type": "markdown",
   "metadata": {},
   "source": [
    "__Write a function of $\\mu$, $\\pi$ which returns the simulation. Compare different values of the parameters. How would you interpret \"social distancing\"?__"
   ]
  },
  {
   "cell_type": "code",
   "execution_count": 10,
   "metadata": {},
   "outputs": [
    {
     "data": {
      "image/svg+xml": [
       "<?xml version=\"1.0\" encoding=\"utf-8\"?>\n",
       "<svg xmlns=\"http://www.w3.org/2000/svg\" xmlns:xlink=\"http://www.w3.org/1999/xlink\" width=\"600\" height=\"400\" viewBox=\"0 0 2400 1600\">\n",
       "<defs>\n",
       "  <clipPath id=\"clip7800\">\n",
       "    <rect x=\"0\" y=\"0\" width=\"2400\" height=\"1600\"/>\n",
       "  </clipPath>\n",
       "</defs>\n",
       "<path clip-path=\"url(#clip7800)\" d=\"\n",
       "M0 1600 L2400 1600 L2400 0 L0 0  Z\n",
       "  \" fill=\"#ffffff\" fill-rule=\"evenodd\" fill-opacity=\"1\"/>\n",
       "<defs>\n",
       "  <clipPath id=\"clip7801\">\n",
       "    <rect x=\"480\" y=\"0\" width=\"1681\" height=\"1600\"/>\n",
       "  </clipPath>\n",
       "</defs>\n",
       "<path clip-path=\"url(#clip7800)\" d=\"\n",
       "M153.898 1487.47 L2352.76 1487.47 L2352.76 121.675 L153.898 121.675  Z\n",
       "  \" fill=\"#ffffff\" fill-rule=\"evenodd\" fill-opacity=\"1\"/>\n",
       "<defs>\n",
       "  <clipPath id=\"clip7802\">\n",
       "    <rect x=\"153\" y=\"121\" width=\"2200\" height=\"1367\"/>\n",
       "  </clipPath>\n",
       "</defs>\n",
       "<polyline clip-path=\"url(#clip7802)\" style=\"stroke:#000000; stroke-width:2; stroke-opacity:0.1; fill:none\" points=\"\n",
       "  195.176,1487.47 195.176,121.675 \n",
       "  \"/>\n",
       "<polyline clip-path=\"url(#clip7802)\" style=\"stroke:#000000; stroke-width:2; stroke-opacity:0.1; fill:none\" points=\"\n",
       "  719.013,1487.47 719.013,121.675 \n",
       "  \"/>\n",
       "<polyline clip-path=\"url(#clip7802)\" style=\"stroke:#000000; stroke-width:2; stroke-opacity:0.1; fill:none\" points=\"\n",
       "  1242.85,1487.47 1242.85,121.675 \n",
       "  \"/>\n",
       "<polyline clip-path=\"url(#clip7802)\" style=\"stroke:#000000; stroke-width:2; stroke-opacity:0.1; fill:none\" points=\"\n",
       "  1766.69,1487.47 1766.69,121.675 \n",
       "  \"/>\n",
       "<polyline clip-path=\"url(#clip7802)\" style=\"stroke:#000000; stroke-width:2; stroke-opacity:0.1; fill:none\" points=\"\n",
       "  2290.52,1487.47 2290.52,121.675 \n",
       "  \"/>\n",
       "<polyline clip-path=\"url(#clip7802)\" style=\"stroke:#000000; stroke-width:2; stroke-opacity:0.1; fill:none\" points=\"\n",
       "  153.898,1448.82 2352.76,1448.82 \n",
       "  \"/>\n",
       "<polyline clip-path=\"url(#clip7802)\" style=\"stroke:#000000; stroke-width:2; stroke-opacity:0.1; fill:none\" points=\"\n",
       "  153.898,1163.6 2352.76,1163.6 \n",
       "  \"/>\n",
       "<polyline clip-path=\"url(#clip7802)\" style=\"stroke:#000000; stroke-width:2; stroke-opacity:0.1; fill:none\" points=\"\n",
       "  153.898,878.387 2352.76,878.387 \n",
       "  \"/>\n",
       "<polyline clip-path=\"url(#clip7802)\" style=\"stroke:#000000; stroke-width:2; stroke-opacity:0.1; fill:none\" points=\"\n",
       "  153.898,593.17 2352.76,593.17 \n",
       "  \"/>\n",
       "<polyline clip-path=\"url(#clip7802)\" style=\"stroke:#000000; stroke-width:2; stroke-opacity:0.1; fill:none\" points=\"\n",
       "  153.898,307.954 2352.76,307.954 \n",
       "  \"/>\n",
       "<polyline clip-path=\"url(#clip7800)\" style=\"stroke:#000000; stroke-width:4; stroke-opacity:1; fill:none\" points=\"\n",
       "  153.898,1487.47 2352.76,1487.47 \n",
       "  \"/>\n",
       "<polyline clip-path=\"url(#clip7800)\" style=\"stroke:#000000; stroke-width:4; stroke-opacity:1; fill:none\" points=\"\n",
       "  153.898,1487.47 153.898,121.675 \n",
       "  \"/>\n",
       "<polyline clip-path=\"url(#clip7800)\" style=\"stroke:#000000; stroke-width:4; stroke-opacity:1; fill:none\" points=\"\n",
       "  195.176,1487.47 195.176,1471.09 \n",
       "  \"/>\n",
       "<polyline clip-path=\"url(#clip7800)\" style=\"stroke:#000000; stroke-width:4; stroke-opacity:1; fill:none\" points=\"\n",
       "  719.013,1487.47 719.013,1471.09 \n",
       "  \"/>\n",
       "<polyline clip-path=\"url(#clip7800)\" style=\"stroke:#000000; stroke-width:4; stroke-opacity:1; fill:none\" points=\"\n",
       "  1242.85,1487.47 1242.85,1471.09 \n",
       "  \"/>\n",
       "<polyline clip-path=\"url(#clip7800)\" style=\"stroke:#000000; stroke-width:4; stroke-opacity:1; fill:none\" points=\"\n",
       "  1766.69,1487.47 1766.69,1471.09 \n",
       "  \"/>\n",
       "<polyline clip-path=\"url(#clip7800)\" style=\"stroke:#000000; stroke-width:4; stroke-opacity:1; fill:none\" points=\"\n",
       "  2290.52,1487.47 2290.52,1471.09 \n",
       "  \"/>\n",
       "<polyline clip-path=\"url(#clip7800)\" style=\"stroke:#000000; stroke-width:4; stroke-opacity:1; fill:none\" points=\"\n",
       "  153.898,1448.82 180.284,1448.82 \n",
       "  \"/>\n",
       "<polyline clip-path=\"url(#clip7800)\" style=\"stroke:#000000; stroke-width:4; stroke-opacity:1; fill:none\" points=\"\n",
       "  153.898,1163.6 180.284,1163.6 \n",
       "  \"/>\n",
       "<polyline clip-path=\"url(#clip7800)\" style=\"stroke:#000000; stroke-width:4; stroke-opacity:1; fill:none\" points=\"\n",
       "  153.898,878.387 180.284,878.387 \n",
       "  \"/>\n",
       "<polyline clip-path=\"url(#clip7800)\" style=\"stroke:#000000; stroke-width:4; stroke-opacity:1; fill:none\" points=\"\n",
       "  153.898,593.17 180.284,593.17 \n",
       "  \"/>\n",
       "<polyline clip-path=\"url(#clip7800)\" style=\"stroke:#000000; stroke-width:4; stroke-opacity:1; fill:none\" points=\"\n",
       "  153.898,307.954 180.284,307.954 \n",
       "  \"/>\n",
       "<g clip-path=\"url(#clip7800)\">\n",
       "<text style=\"fill:#000000; fill-opacity:1; font-family:Arial,Helvetica Neue,Helvetica,sans-serif; font-size:48px; text-anchor:middle;\" transform=\"rotate(0, 195.176, 1541.47)\" x=\"195.176\" y=\"1541.47\">0</text>\n",
       "</g>\n",
       "<g clip-path=\"url(#clip7800)\">\n",
       "<text style=\"fill:#000000; fill-opacity:1; font-family:Arial,Helvetica Neue,Helvetica,sans-serif; font-size:48px; text-anchor:middle;\" transform=\"rotate(0, 719.013, 1541.47)\" x=\"719.013\" y=\"1541.47\">25</text>\n",
       "</g>\n",
       "<g clip-path=\"url(#clip7800)\">\n",
       "<text style=\"fill:#000000; fill-opacity:1; font-family:Arial,Helvetica Neue,Helvetica,sans-serif; font-size:48px; text-anchor:middle;\" transform=\"rotate(0, 1242.85, 1541.47)\" x=\"1242.85\" y=\"1541.47\">50</text>\n",
       "</g>\n",
       "<g clip-path=\"url(#clip7800)\">\n",
       "<text style=\"fill:#000000; fill-opacity:1; font-family:Arial,Helvetica Neue,Helvetica,sans-serif; font-size:48px; text-anchor:middle;\" transform=\"rotate(0, 1766.69, 1541.47)\" x=\"1766.69\" y=\"1541.47\">75</text>\n",
       "</g>\n",
       "<g clip-path=\"url(#clip7800)\">\n",
       "<text style=\"fill:#000000; fill-opacity:1; font-family:Arial,Helvetica Neue,Helvetica,sans-serif; font-size:48px; text-anchor:middle;\" transform=\"rotate(0, 2290.52, 1541.47)\" x=\"2290.52\" y=\"1541.47\">100</text>\n",
       "</g>\n",
       "<g clip-path=\"url(#clip7800)\">\n",
       "<text style=\"fill:#000000; fill-opacity:1; font-family:Arial,Helvetica Neue,Helvetica,sans-serif; font-size:48px; text-anchor:end;\" transform=\"rotate(0, 129.898, 1466.32)\" x=\"129.898\" y=\"1466.32\">0.0</text>\n",
       "</g>\n",
       "<g clip-path=\"url(#clip7800)\">\n",
       "<text style=\"fill:#000000; fill-opacity:1; font-family:Arial,Helvetica Neue,Helvetica,sans-serif; font-size:48px; text-anchor:end;\" transform=\"rotate(0, 129.898, 1181.1)\" x=\"129.898\" y=\"1181.1\">0.2</text>\n",
       "</g>\n",
       "<g clip-path=\"url(#clip7800)\">\n",
       "<text style=\"fill:#000000; fill-opacity:1; font-family:Arial,Helvetica Neue,Helvetica,sans-serif; font-size:48px; text-anchor:end;\" transform=\"rotate(0, 129.898, 895.887)\" x=\"129.898\" y=\"895.887\">0.4</text>\n",
       "</g>\n",
       "<g clip-path=\"url(#clip7800)\">\n",
       "<text style=\"fill:#000000; fill-opacity:1; font-family:Arial,Helvetica Neue,Helvetica,sans-serif; font-size:48px; text-anchor:end;\" transform=\"rotate(0, 129.898, 610.67)\" x=\"129.898\" y=\"610.67\">0.6</text>\n",
       "</g>\n",
       "<g clip-path=\"url(#clip7800)\">\n",
       "<text style=\"fill:#000000; fill-opacity:1; font-family:Arial,Helvetica Neue,Helvetica,sans-serif; font-size:48px; text-anchor:end;\" transform=\"rotate(0, 129.898, 325.454)\" x=\"129.898\" y=\"325.454\">0.8</text>\n",
       "</g>\n",
       "<g clip-path=\"url(#clip7800)\">\n",
       "<text style=\"fill:#000000; fill-opacity:1; font-family:Arial,Helvetica Neue,Helvetica,sans-serif; font-size:84px; text-anchor:middle;\" transform=\"rotate(0, 1253.33, 73.2)\" x=\"1253.33\" y=\"73.2\">Graphical representation of population dynamics</text>\n",
       "</g>\n",
       "<polyline clip-path=\"url(#clip7802)\" style=\"stroke:#009af9; stroke-width:4; stroke-opacity:1; fill:none\" points=\"\n",
       "  216.13,1021 237.083,1192.13 258.037,1323.55 278.99,1397.95 299.944,1430.21 320.897,1442.2 341.851,1446.43 362.804,1447.94 383.758,1448.48 404.711,1448.69 \n",
       "  425.665,1448.77 446.618,1448.8 467.572,1448.81 488.525,1448.82 509.478,1448.82 530.432,1448.82 551.385,1448.82 572.339,1448.82 593.292,1448.82 614.246,1448.82 \n",
       "  635.199,1448.82 656.153,1448.82 677.106,1448.82 698.06,1448.82 719.013,1448.82 739.967,1448.82 760.92,1448.82 781.874,1448.82 802.827,1448.82 823.781,1448.82 \n",
       "  844.734,1448.82 865.688,1448.82 886.641,1448.82 907.595,1448.82 928.548,1448.82 949.502,1448.82 970.455,1448.82 991.408,1448.82 1012.36,1448.82 1033.32,1448.82 \n",
       "  1054.27,1448.82 1075.22,1448.82 1096.18,1448.82 1117.13,1448.82 1138.08,1448.82 1159.04,1448.82 1179.99,1448.82 1200.94,1448.82 1221.9,1448.82 1242.85,1448.82 \n",
       "  1263.8,1448.82 1284.76,1448.82 1305.71,1448.82 1326.66,1448.82 1347.62,1448.82 1368.57,1448.82 1389.52,1448.82 1410.48,1448.82 1431.43,1448.82 1452.38,1448.82 \n",
       "  1473.34,1448.82 1494.29,1448.82 1515.25,1448.82 1536.2,1448.82 1557.15,1448.82 1578.11,1448.82 1599.06,1448.82 1620.01,1448.82 1640.97,1448.82 1661.92,1448.82 \n",
       "  1682.87,1448.82 1703.83,1448.82 1724.78,1448.82 1745.73,1448.82 1766.69,1448.82 1787.64,1448.82 1808.59,1448.82 1829.55,1448.82 1850.5,1448.82 1871.45,1448.82 \n",
       "  1892.41,1448.82 1913.36,1448.82 1934.31,1448.82 1955.27,1448.82 1976.22,1448.82 1997.18,1448.82 2018.13,1448.82 2039.08,1448.82 2060.04,1448.82 2080.99,1448.82 \n",
       "  2101.94,1448.82 2122.9,1448.82 2143.85,1448.82 2164.8,1448.82 2185.76,1448.82 2206.71,1448.82 2227.66,1448.82 2248.62,1448.82 2269.57,1448.82 2290.52,1448.82 \n",
       "  \n",
       "  \"/>\n",
       "<polyline clip-path=\"url(#clip7802)\" style=\"stroke:#e26f46; stroke-width:4; stroke-opacity:1; fill:none\" points=\"\n",
       "  216.13,878.387 237.083,718.666 258.037,601.841 278.99,544.382 299.944,530.209 320.897,536.596 341.851,550.605 362.804,567.066 383.758,584.155 404.711,601.244 \n",
       "  425.665,618.117 446.618,634.699 467.572,650.969 488.525,666.921 509.478,682.556 530.432,697.881 551.385,712.899 572.339,727.617 593.292,742.041 614.246,756.177 \n",
       "  635.199,770.029 656.153,783.605 677.106,796.91 698.06,809.948 719.013,822.725 739.967,835.247 760.92,847.519 781.874,859.545 802.827,871.33 823.781,882.88 \n",
       "  844.734,894.199 865.688,905.291 886.641,916.162 907.595,926.815 928.548,937.255 949.502,947.486 970.455,957.513 991.408,967.339 1012.36,976.969 1033.32,986.406 \n",
       "  1054.27,995.654 1075.22,1004.72 1096.18,1013.6 1117.13,1022.3 1138.08,1030.83 1159.04,1039.19 1179.99,1047.39 1200.94,1055.42 1221.9,1063.28 1242.85,1070.99 \n",
       "  1263.8,1078.55 1284.76,1085.96 1305.71,1093.21 1326.66,1100.33 1347.62,1107.3 1368.57,1114.13 1389.52,1120.82 1410.48,1127.38 1431.43,1133.81 1452.38,1140.11 \n",
       "  1473.34,1146.28 1494.29,1152.33 1515.25,1158.26 1536.2,1164.07 1557.15,1169.77 1578.11,1175.35 1599.06,1180.82 1620.01,1186.18 1640.97,1191.43 1661.92,1196.58 \n",
       "  1682.87,1201.63 1703.83,1206.57 1724.78,1211.41 1745.73,1216.16 1766.69,1220.82 1787.64,1225.38 1808.59,1229.84 1829.55,1234.22 1850.5,1238.52 1871.45,1242.72 \n",
       "  1892.41,1246.84 1913.36,1250.88 1934.31,1254.84 1955.27,1258.72 1976.22,1262.52 1997.18,1266.25 2018.13,1269.9 2039.08,1273.48 2060.04,1276.99 2080.99,1280.42 \n",
       "  2101.94,1283.79 2122.9,1287.09 2143.85,1290.33 2164.8,1293.5 2185.76,1296.6 2206.71,1299.65 2227.66,1302.63 2248.62,1305.55 2269.57,1308.42 2290.52,1311.23 \n",
       "  \n",
       "  \"/>\n",
       "<polyline clip-path=\"url(#clip7802)\" style=\"stroke:#3da44d; stroke-width:4; stroke-opacity:1; fill:none\" points=\"\n",
       "  216.13,1021 237.083,1009.59 258.037,994.983 278.99,978.044 299.944,959.955 320.897,941.583 341.851,923.338 362.804,905.374 383.758,887.739 404.711,870.446 \n",
       "  425.665,853.494 446.618,836.88 467.572,820.598 488.525,804.641 509.478,789.003 530.432,773.677 551.385,758.659 572.339,743.94 593.292,729.516 614.246,715.38 \n",
       "  635.199,701.528 656.153,687.952 677.106,674.648 698.06,661.609 719.013,648.832 739.967,636.31 760.92,624.039 781.874,612.012 802.827,600.227 823.781,588.677 \n",
       "  844.734,577.358 865.688,566.266 886.641,555.395 907.595,544.742 928.548,534.302 949.502,524.071 970.455,514.044 991.408,504.218 1012.36,494.588 1033.32,485.151 \n",
       "  1054.27,475.903 1075.22,466.84 1096.18,457.958 1117.13,449.253 1138.08,440.723 1159.04,432.363 1179.99,424.171 1200.94,416.142 1221.9,408.274 1242.85,400.563 \n",
       "  1263.8,393.007 1284.76,385.601 1305.71,378.344 1326.66,371.232 1347.62,364.262 1368.57,357.431 1389.52,350.738 1410.48,344.178 1431.43,337.749 1452.38,331.448 \n",
       "  1473.34,325.274 1494.29,319.224 1515.25,313.294 1536.2,307.483 1557.15,301.788 1578.11,296.207 1599.06,290.737 1620.01,285.377 1640.97,280.125 1661.92,274.977 \n",
       "  1682.87,269.932 1703.83,264.988 1724.78,260.143 1745.73,255.395 1766.69,250.742 1787.64,246.182 1808.59,241.713 1829.55,237.333 1850.5,233.041 1871.45,228.835 \n",
       "  1892.41,224.713 1913.36,220.674 1934.31,216.715 1955.27,212.835 1976.22,209.033 1997.18,205.308 2018.13,201.656 2039.08,198.078 2060.04,194.571 2080.99,191.134 \n",
       "  2101.94,187.766 2122.9,184.466 2143.85,181.231 2164.8,178.061 2185.76,174.955 2206.71,171.91 2227.66,168.927 2248.62,166.003 2269.57,163.138 2290.52,160.33 \n",
       "  \n",
       "  \"/>\n",
       "<path clip-path=\"url(#clip7800)\" d=\"\n",
       "M1634.07 447.115 L2280.76 447.115 L2280.76 205.195 L1634.07 205.195  Z\n",
       "  \" fill=\"#ffffff\" fill-rule=\"evenodd\" fill-opacity=\"1\"/>\n",
       "<polyline clip-path=\"url(#clip7800)\" style=\"stroke:#000000; stroke-width:4; stroke-opacity:1; fill:none\" points=\"\n",
       "  1634.07,447.115 2280.76,447.115 2280.76,205.195 1634.07,205.195 1634.07,447.115 \n",
       "  \"/>\n",
       "<polyline clip-path=\"url(#clip7800)\" style=\"stroke:#009af9; stroke-width:4; stroke-opacity:1; fill:none\" points=\"\n",
       "  1658.07,265.675 1802.07,265.675 \n",
       "  \"/>\n",
       "<g clip-path=\"url(#clip7800)\">\n",
       "<text style=\"fill:#000000; fill-opacity:1; font-family:Arial,Helvetica Neue,Helvetica,sans-serif; font-size:48px; text-anchor:start;\" transform=\"rotate(0, 1826.07, 283.175)\" x=\"1826.07\" y=\"283.175\">Susceptible people</text>\n",
       "</g>\n",
       "<polyline clip-path=\"url(#clip7800)\" style=\"stroke:#e26f46; stroke-width:4; stroke-opacity:1; fill:none\" points=\"\n",
       "  1658.07,326.155 1802.07,326.155 \n",
       "  \"/>\n",
       "<g clip-path=\"url(#clip7800)\">\n",
       "<text style=\"fill:#000000; fill-opacity:1; font-family:Arial,Helvetica Neue,Helvetica,sans-serif; font-size:48px; text-anchor:start;\" transform=\"rotate(0, 1826.07, 343.655)\" x=\"1826.07\" y=\"343.655\">Infected people</text>\n",
       "</g>\n",
       "<polyline clip-path=\"url(#clip7800)\" style=\"stroke:#3da44d; stroke-width:4; stroke-opacity:1; fill:none\" points=\"\n",
       "  1658.07,386.635 1802.07,386.635 \n",
       "  \"/>\n",
       "<g clip-path=\"url(#clip7800)\">\n",
       "<text style=\"fill:#000000; fill-opacity:1; font-family:Arial,Helvetica Neue,Helvetica,sans-serif; font-size:48px; text-anchor:start;\" transform=\"rotate(0, 1826.07, 404.135)\" x=\"1826.07\" y=\"404.135\">Recovered people</text>\n",
       "</g>\n",
       "</svg>\n"
      ]
     },
     "execution_count": 10,
     "metadata": {},
     "output_type": "execute_result"
    }
   ],
   "source": [
    "\n",
    "x = 1:T\n",
    "y = [[el[1] for el in sim],[el[2] for el in sim],[el[3] for el in sim]]\n",
    "p = plot(x, y, \n",
    "     title = \"Graphical representation of population dynamics\", ## adding a title\n",
    "     label = [\"Susceptible people\" \"Infected people\" \"Recovered people\"]) ## adding legend labels"
   ]
  },
  {
   "cell_type": "markdown",
   "metadata": {},
   "source": [
    "### A Spatial SIR model\n",
    "\n",
    "We now consider another version of the model where agents evolve in the space $\\mathcal{S}=[0,1]\\times[0,1]$. There are $N\\in\\mathbb{N}$ agent. At any date, each agent $n \\in [0,1]$  is located at $(x_n,y_n)\\in \\mathcal{S}$.\n",
    "\n",
    "Each agent moves follows a random walk bounded by $\\mathcal{S}$:\n",
    "$$x_t = \\min(\\max( x_{t-1} + \\epsilon_t, 0), 1)$$\n",
    "$$y_t = \\min(\\max( y_{t-1} + \\eta_t, 0), 1)$$\n",
    "where $\\epsilon_t$ and $\\eta_t$ are both normally distributed with standard deviation $\\sigma$.\n",
    "\n",
    "At any date, the individual state of an agent is $s_t=(x_t, y_t, h_t)$ where $h_t$ is either \"S\", \"I\" or \"R\". $v_t$ denotes the states of all agents (for instance $v_t=(s_{n,t})_n$. The health status of each agent is updated in the following way:\n",
    "\n",
    "- Agents $R$ stay $R$.\n",
    "- Agents $I$ have probability $\\pi$ to become $R$. They stay $I$ otherwise.\n",
    "- An agent of type $S$ in position $(x,y)$ has a probability $prob(x,y,S)$ to be infected that is $\\mu$ if there is another infected agent within a radius $r>0$.\n"
   ]
  },
  {
   "cell_type": "markdown",
   "metadata": {},
   "source": [
    "__Define a type `Agent`, which holds the type of an agent. The state of the whole system will be held in a `Vector[Agent]` type.__\n",
    "\n"
   ]
  },
  {
   "cell_type": "code",
   "execution_count": 11,
   "metadata": {},
   "outputs": [],
   "source": [
    "#Pkg.add(\"Revise\")"
   ]
  },
  {
   "cell_type": "code",
   "execution_count": 12,
   "metadata": {},
   "outputs": [],
   "source": [
    "struct Agent\n",
    "    x::Float64\n",
    "    y::Float64\n",
    "    z::String\n",
    "    \n",
    "end"
   ]
  },
  {
   "cell_type": "markdown",
   "metadata": {},
   "source": [
    "__Write a function `spatial_transition(S::Vector[Agent])::Vector[Agent]` to compute the transition of the positions. Write another function `random_guess(T=100)` which simulates for $T$ periods in order to find a good initial guess.__\n",
    "\n"
   ]
  },
  {
   "cell_type": "code",
   "execution_count": 13,
   "metadata": {},
   "outputs": [
    {
     "name": "stderr",
     "output_type": "stream",
     "text": [
      "\u001b[32m\u001b[1m  Resolving\u001b[22m\u001b[39m package versions...\n",
      "\u001b[32m\u001b[1m   Updating\u001b[22m\u001b[39m `~/.juliapro/JuliaPro_v1.4.0-1/environments/v1.4/Project.toml`\n",
      "\u001b[90m [no changes]\u001b[39m\n",
      "\u001b[32m\u001b[1m   Updating\u001b[22m\u001b[39m `~/.juliapro/JuliaPro_v1.4.0-1/environments/v1.4/Manifest.toml`\n",
      "\u001b[90m [no changes]\u001b[39m\n",
      "\u001b[32m\u001b[1m  Resolving\u001b[22m\u001b[39m package versions...\n",
      "\u001b[32m\u001b[1m   Updating\u001b[22m\u001b[39m `~/.juliapro/JuliaPro_v1.4.0-1/environments/v1.4/Project.toml`\n",
      "\u001b[90m [no changes]\u001b[39m\n",
      "\u001b[32m\u001b[1m   Updating\u001b[22m\u001b[39m `~/.juliapro/JuliaPro_v1.4.0-1/environments/v1.4/Manifest.toml`\n",
      "\u001b[90m [no changes]\u001b[39m\n"
     ]
    }
   ],
   "source": [
    "Pkg.add(\"Distances\")\n",
    "Pkg.add(\"Distributions\")\n",
    "using Distances\n"
   ]
  },
  {
   "cell_type": "code",
   "execution_count": 52,
   "metadata": {},
   "outputs": [
    {
     "data": {
      "text/plain": [
       "spatial_transition (generic function with 1 method)"
      ]
     },
     "execution_count": 52,
     "metadata": {},
     "output_type": "execute_result"
    }
   ],
   "source": [
    "σ=0.2\n",
    "μ=0.5\n",
    "r = 0.1\n",
    "Π  = 0.05\n",
    "using Distances\n",
    "using Random, Distributions\n",
    "function spatial_transition(S::Array{Agent,1})\n",
    "    \n",
    "    \n",
    "    #Random.seed!(123)\n",
    "    d = Normal(0.0, σ)\n",
    "    \n",
    "    e = rand(d, length(S))\n",
    "    mu = rand(d, length(S))\n",
    "    new_S = Agent[]\n",
    "    \n",
    "    for i in eachindex(S)\n",
    "        \n",
    "        x = S[i].x\n",
    "        y = S[i].y\n",
    "        h = S[i].z\n",
    "        new_x = min(max(x + e[i],0),1)\n",
    "        new_y = min(max(y + mu[i],0),1)\n",
    "        \n",
    "                \n",
    "        push!(new_S,Agent(new_x,new_y,h))\n",
    "        \n",
    "    end\n",
    " \n",
    "    return new_S \n",
    "end  \n"
   ]
  },
  {
   "cell_type": "code",
   "execution_count": 53,
   "metadata": {},
   "outputs": [
    {
     "ename": "LoadError",
     "evalue": "syntax: incomplete: premature end of input",
     "output_type": "error",
     "traceback": [
      "syntax: incomplete: premature end of input",
      ""
     ]
    }
   ],
   "source": [
    "function random_guess()"
   ]
  },
  {
   "cell_type": "markdown",
   "metadata": {},
   "source": [
    "__Write a function `show_population` to plot all agents with different colors for different health status.__\n",
    "\n"
   ]
  },
  {
   "cell_type": "code",
   "execution_count": 54,
   "metadata": {},
   "outputs": [
    {
     "data": {
      "text/plain": [
       "show_population (generic function with 1 method)"
      ]
     },
     "execution_count": 54,
     "metadata": {},
     "output_type": "execute_result"
    }
   ],
   "source": [
    "using Plots \n",
    "function show_population(S)\n",
    "    x = []\n",
    "    y = []\n",
    "    z = []\n",
    "    for i in eachindex(S)\n",
    "        push!(x,S[i].x)\n",
    "        push!(y,S[i].y)\n",
    "        push!(z,S[i].z)\n",
    "        \n",
    "    end\n",
    "    scatter(\n",
    "        x,\n",
    "        y,\n",
    "        group = z\n",
    "       \n",
    "    )\n",
    "end \n"
   ]
  },
  {
   "cell_type": "code",
   "execution_count": 55,
   "metadata": {},
   "outputs": [
    {
     "data": {
      "text/plain": [
       "Agent(0.0, 0.73, \"S\")"
      ]
     },
     "execution_count": 55,
     "metadata": {},
     "output_type": "execute_result"
    }
   ],
   "source": [
    "T1 = Agent(0.1,0.3,\"I\")\n",
    "T2 = Agent(0.2,0.2,\"R\")\n",
    "T3 = Agent(0.3,0.80,\"S\")\n",
    "T4 = Agent(0.0,0.73,\"S\")"
   ]
  },
  {
   "cell_type": "code",
   "execution_count": 56,
   "metadata": {},
   "outputs": [
    {
     "data": {
      "image/svg+xml": [
       "<?xml version=\"1.0\" encoding=\"utf-8\"?>\n",
       "<svg xmlns=\"http://www.w3.org/2000/svg\" xmlns:xlink=\"http://www.w3.org/1999/xlink\" width=\"600\" height=\"400\" viewBox=\"0 0 2400 1600\">\n",
       "<defs>\n",
       "  <clipPath id=\"clip0200\">\n",
       "    <rect x=\"0\" y=\"0\" width=\"2400\" height=\"1600\"/>\n",
       "  </clipPath>\n",
       "</defs>\n",
       "<path clip-path=\"url(#clip0200)\" d=\"\n",
       "M0 1600 L2400 1600 L2400 0 L0 0  Z\n",
       "  \" fill=\"#ffffff\" fill-rule=\"evenodd\" fill-opacity=\"1\"/>\n",
       "<defs>\n",
       "  <clipPath id=\"clip0201\">\n",
       "    <rect x=\"480\" y=\"0\" width=\"1681\" height=\"1600\"/>\n",
       "  </clipPath>\n",
       "</defs>\n",
       "<path clip-path=\"url(#clip0200)\" d=\"\n",
       "M153.898 1487.47 L2352.76 1487.47 L2352.76 47.2441 L153.898 47.2441  Z\n",
       "  \" fill=\"#ffffff\" fill-rule=\"evenodd\" fill-opacity=\"1\"/>\n",
       "<defs>\n",
       "  <clipPath id=\"clip0202\">\n",
       "    <rect x=\"153\" y=\"47\" width=\"2200\" height=\"1441\"/>\n",
       "  </clipPath>\n",
       "</defs>\n",
       "<polyline clip-path=\"url(#clip0202)\" style=\"stroke:#000000; stroke-width:2; stroke-opacity:0.1; fill:none\" points=\"\n",
       "  216.13,1487.47 216.13,47.2441 \n",
       "  \"/>\n",
       "<polyline clip-path=\"url(#clip0202)\" style=\"stroke:#000000; stroke-width:2; stroke-opacity:0.1; fill:none\" points=\"\n",
       "  907.595,1487.47 907.595,47.2441 \n",
       "  \"/>\n",
       "<polyline clip-path=\"url(#clip0202)\" style=\"stroke:#000000; stroke-width:2; stroke-opacity:0.1; fill:none\" points=\"\n",
       "  1599.06,1487.47 1599.06,47.2441 \n",
       "  \"/>\n",
       "<polyline clip-path=\"url(#clip0202)\" style=\"stroke:#000000; stroke-width:2; stroke-opacity:0.1; fill:none\" points=\"\n",
       "  2290.52,1487.47 2290.52,47.2441 \n",
       "  \"/>\n",
       "<polyline clip-path=\"url(#clip0202)\" style=\"stroke:#000000; stroke-width:2; stroke-opacity:0.1; fill:none\" points=\"\n",
       "  153.898,1446.71 2352.76,1446.71 \n",
       "  \"/>\n",
       "<polyline clip-path=\"url(#clip0202)\" style=\"stroke:#000000; stroke-width:2; stroke-opacity:0.1; fill:none\" points=\"\n",
       "  153.898,1220.26 2352.76,1220.26 \n",
       "  \"/>\n",
       "<polyline clip-path=\"url(#clip0202)\" style=\"stroke:#000000; stroke-width:2; stroke-opacity:0.1; fill:none\" points=\"\n",
       "  153.898,993.811 2352.76,993.811 \n",
       "  \"/>\n",
       "<polyline clip-path=\"url(#clip0202)\" style=\"stroke:#000000; stroke-width:2; stroke-opacity:0.1; fill:none\" points=\"\n",
       "  153.898,767.359 2352.76,767.359 \n",
       "  \"/>\n",
       "<polyline clip-path=\"url(#clip0202)\" style=\"stroke:#000000; stroke-width:2; stroke-opacity:0.1; fill:none\" points=\"\n",
       "  153.898,540.908 2352.76,540.908 \n",
       "  \"/>\n",
       "<polyline clip-path=\"url(#clip0202)\" style=\"stroke:#000000; stroke-width:2; stroke-opacity:0.1; fill:none\" points=\"\n",
       "  153.898,314.457 2352.76,314.457 \n",
       "  \"/>\n",
       "<polyline clip-path=\"url(#clip0202)\" style=\"stroke:#000000; stroke-width:2; stroke-opacity:0.1; fill:none\" points=\"\n",
       "  153.898,88.0053 2352.76,88.0053 \n",
       "  \"/>\n",
       "<polyline clip-path=\"url(#clip0200)\" style=\"stroke:#000000; stroke-width:4; stroke-opacity:1; fill:none\" points=\"\n",
       "  153.898,1487.47 2352.76,1487.47 \n",
       "  \"/>\n",
       "<polyline clip-path=\"url(#clip0200)\" style=\"stroke:#000000; stroke-width:4; stroke-opacity:1; fill:none\" points=\"\n",
       "  153.898,1487.47 153.898,47.2441 \n",
       "  \"/>\n",
       "<polyline clip-path=\"url(#clip0200)\" style=\"stroke:#000000; stroke-width:4; stroke-opacity:1; fill:none\" points=\"\n",
       "  216.13,1487.47 216.13,1470.19 \n",
       "  \"/>\n",
       "<polyline clip-path=\"url(#clip0200)\" style=\"stroke:#000000; stroke-width:4; stroke-opacity:1; fill:none\" points=\"\n",
       "  907.595,1487.47 907.595,1470.19 \n",
       "  \"/>\n",
       "<polyline clip-path=\"url(#clip0200)\" style=\"stroke:#000000; stroke-width:4; stroke-opacity:1; fill:none\" points=\"\n",
       "  1599.06,1487.47 1599.06,1470.19 \n",
       "  \"/>\n",
       "<polyline clip-path=\"url(#clip0200)\" style=\"stroke:#000000; stroke-width:4; stroke-opacity:1; fill:none\" points=\"\n",
       "  2290.52,1487.47 2290.52,1470.19 \n",
       "  \"/>\n",
       "<polyline clip-path=\"url(#clip0200)\" style=\"stroke:#000000; stroke-width:4; stroke-opacity:1; fill:none\" points=\"\n",
       "  153.898,1446.71 180.284,1446.71 \n",
       "  \"/>\n",
       "<polyline clip-path=\"url(#clip0200)\" style=\"stroke:#000000; stroke-width:4; stroke-opacity:1; fill:none\" points=\"\n",
       "  153.898,1220.26 180.284,1220.26 \n",
       "  \"/>\n",
       "<polyline clip-path=\"url(#clip0200)\" style=\"stroke:#000000; stroke-width:4; stroke-opacity:1; fill:none\" points=\"\n",
       "  153.898,993.811 180.284,993.811 \n",
       "  \"/>\n",
       "<polyline clip-path=\"url(#clip0200)\" style=\"stroke:#000000; stroke-width:4; stroke-opacity:1; fill:none\" points=\"\n",
       "  153.898,767.359 180.284,767.359 \n",
       "  \"/>\n",
       "<polyline clip-path=\"url(#clip0200)\" style=\"stroke:#000000; stroke-width:4; stroke-opacity:1; fill:none\" points=\"\n",
       "  153.898,540.908 180.284,540.908 \n",
       "  \"/>\n",
       "<polyline clip-path=\"url(#clip0200)\" style=\"stroke:#000000; stroke-width:4; stroke-opacity:1; fill:none\" points=\"\n",
       "  153.898,314.457 180.284,314.457 \n",
       "  \"/>\n",
       "<polyline clip-path=\"url(#clip0200)\" style=\"stroke:#000000; stroke-width:4; stroke-opacity:1; fill:none\" points=\"\n",
       "  153.898,88.0053 180.284,88.0053 \n",
       "  \"/>\n",
       "<g clip-path=\"url(#clip0200)\">\n",
       "<text style=\"fill:#000000; fill-opacity:1; font-family:Arial,Helvetica Neue,Helvetica,sans-serif; font-size:48px; text-anchor:middle;\" transform=\"rotate(0, 216.13, 1541.47)\" x=\"216.13\" y=\"1541.47\">0.0</text>\n",
       "</g>\n",
       "<g clip-path=\"url(#clip0200)\">\n",
       "<text style=\"fill:#000000; fill-opacity:1; font-family:Arial,Helvetica Neue,Helvetica,sans-serif; font-size:48px; text-anchor:middle;\" transform=\"rotate(0, 907.595, 1541.47)\" x=\"907.595\" y=\"1541.47\">0.1</text>\n",
       "</g>\n",
       "<g clip-path=\"url(#clip0200)\">\n",
       "<text style=\"fill:#000000; fill-opacity:1; font-family:Arial,Helvetica Neue,Helvetica,sans-serif; font-size:48px; text-anchor:middle;\" transform=\"rotate(0, 1599.06, 1541.47)\" x=\"1599.06\" y=\"1541.47\">0.2</text>\n",
       "</g>\n",
       "<g clip-path=\"url(#clip0200)\">\n",
       "<text style=\"fill:#000000; fill-opacity:1; font-family:Arial,Helvetica Neue,Helvetica,sans-serif; font-size:48px; text-anchor:middle;\" transform=\"rotate(0, 2290.52, 1541.47)\" x=\"2290.52\" y=\"1541.47\">0.3</text>\n",
       "</g>\n",
       "<g clip-path=\"url(#clip0200)\">\n",
       "<text style=\"fill:#000000; fill-opacity:1; font-family:Arial,Helvetica Neue,Helvetica,sans-serif; font-size:48px; text-anchor:end;\" transform=\"rotate(0, 129.898, 1464.21)\" x=\"129.898\" y=\"1464.21\">0.2</text>\n",
       "</g>\n",
       "<g clip-path=\"url(#clip0200)\">\n",
       "<text style=\"fill:#000000; fill-opacity:1; font-family:Arial,Helvetica Neue,Helvetica,sans-serif; font-size:48px; text-anchor:end;\" transform=\"rotate(0, 129.898, 1237.76)\" x=\"129.898\" y=\"1237.76\">0.3</text>\n",
       "</g>\n",
       "<g clip-path=\"url(#clip0200)\">\n",
       "<text style=\"fill:#000000; fill-opacity:1; font-family:Arial,Helvetica Neue,Helvetica,sans-serif; font-size:48px; text-anchor:end;\" transform=\"rotate(0, 129.898, 1011.31)\" x=\"129.898\" y=\"1011.31\">0.4</text>\n",
       "</g>\n",
       "<g clip-path=\"url(#clip0200)\">\n",
       "<text style=\"fill:#000000; fill-opacity:1; font-family:Arial,Helvetica Neue,Helvetica,sans-serif; font-size:48px; text-anchor:end;\" transform=\"rotate(0, 129.898, 784.859)\" x=\"129.898\" y=\"784.859\">0.5</text>\n",
       "</g>\n",
       "<g clip-path=\"url(#clip0200)\">\n",
       "<text style=\"fill:#000000; fill-opacity:1; font-family:Arial,Helvetica Neue,Helvetica,sans-serif; font-size:48px; text-anchor:end;\" transform=\"rotate(0, 129.898, 558.408)\" x=\"129.898\" y=\"558.408\">0.6</text>\n",
       "</g>\n",
       "<g clip-path=\"url(#clip0200)\">\n",
       "<text style=\"fill:#000000; fill-opacity:1; font-family:Arial,Helvetica Neue,Helvetica,sans-serif; font-size:48px; text-anchor:end;\" transform=\"rotate(0, 129.898, 331.957)\" x=\"129.898\" y=\"331.957\">0.7</text>\n",
       "</g>\n",
       "<g clip-path=\"url(#clip0200)\">\n",
       "<text style=\"fill:#000000; fill-opacity:1; font-family:Arial,Helvetica Neue,Helvetica,sans-serif; font-size:48px; text-anchor:end;\" transform=\"rotate(0, 129.898, 105.505)\" x=\"129.898\" y=\"105.505\">0.8</text>\n",
       "</g>\n",
       "<circle clip-path=\"url(#clip0202)\" cx=\"907.595\" cy=\"1220.26\" r=\"14\" fill=\"#009af9\" fill-rule=\"evenodd\" fill-opacity=\"1\" stroke=\"#000000\" stroke-opacity=\"1\" stroke-width=\"3.2\"/>\n",
       "<circle clip-path=\"url(#clip0202)\" cx=\"1599.06\" cy=\"1446.71\" r=\"14\" fill=\"#e26f46\" fill-rule=\"evenodd\" fill-opacity=\"1\" stroke=\"#000000\" stroke-opacity=\"1\" stroke-width=\"3.2\"/>\n",
       "<circle clip-path=\"url(#clip0202)\" cx=\"2290.52\" cy=\"88.0053\" r=\"14\" fill=\"#3da44d\" fill-rule=\"evenodd\" fill-opacity=\"1\" stroke=\"#000000\" stroke-opacity=\"1\" stroke-width=\"3.2\"/>\n",
       "<circle clip-path=\"url(#clip0202)\" cx=\"216.13\" cy=\"246.521\" r=\"14\" fill=\"#3da44d\" fill-rule=\"evenodd\" fill-opacity=\"1\" stroke=\"#000000\" stroke-opacity=\"1\" stroke-width=\"3.2\"/>\n",
       "<path clip-path=\"url(#clip0200)\" d=\"\n",
       "M2006 372.684 L2280.76 372.684 L2280.76 130.764 L2006 130.764  Z\n",
       "  \" fill=\"#ffffff\" fill-rule=\"evenodd\" fill-opacity=\"1\"/>\n",
       "<polyline clip-path=\"url(#clip0200)\" style=\"stroke:#000000; stroke-width:4; stroke-opacity:1; fill:none\" points=\"\n",
       "  2006,372.684 2280.76,372.684 2280.76,130.764 2006,130.764 2006,372.684 \n",
       "  \"/>\n",
       "<circle clip-path=\"url(#clip0200)\" cx=\"2114\" cy=\"191.244\" r=\"21\" fill=\"#009af9\" fill-rule=\"evenodd\" fill-opacity=\"1\" stroke=\"#000000\" stroke-opacity=\"1\" stroke-width=\"3.2\"/>\n",
       "<g clip-path=\"url(#clip0200)\">\n",
       "<text style=\"fill:#000000; fill-opacity:1; font-family:Arial,Helvetica Neue,Helvetica,sans-serif; font-size:48px; text-anchor:start;\" transform=\"rotate(0, 2198, 208.744)\" x=\"2198\" y=\"208.744\">I</text>\n",
       "</g>\n",
       "<circle clip-path=\"url(#clip0200)\" cx=\"2114\" cy=\"251.724\" r=\"21\" fill=\"#e26f46\" fill-rule=\"evenodd\" fill-opacity=\"1\" stroke=\"#000000\" stroke-opacity=\"1\" stroke-width=\"3.2\"/>\n",
       "<g clip-path=\"url(#clip0200)\">\n",
       "<text style=\"fill:#000000; fill-opacity:1; font-family:Arial,Helvetica Neue,Helvetica,sans-serif; font-size:48px; text-anchor:start;\" transform=\"rotate(0, 2198, 269.224)\" x=\"2198\" y=\"269.224\">R</text>\n",
       "</g>\n",
       "<circle clip-path=\"url(#clip0200)\" cx=\"2114\" cy=\"312.204\" r=\"21\" fill=\"#3da44d\" fill-rule=\"evenodd\" fill-opacity=\"1\" stroke=\"#000000\" stroke-opacity=\"1\" stroke-width=\"3.2\"/>\n",
       "<g clip-path=\"url(#clip0200)\">\n",
       "<text style=\"fill:#000000; fill-opacity:1; font-family:Arial,Helvetica Neue,Helvetica,sans-serif; font-size:48px; text-anchor:start;\" transform=\"rotate(0, 2198, 329.704)\" x=\"2198\" y=\"329.704\">S</text>\n",
       "</g>\n",
       "</svg>\n"
      ]
     },
     "execution_count": 56,
     "metadata": {},
     "output_type": "execute_result"
    }
   ],
   "source": [
    "show_population([T1,T2,T3,T4])"
   ]
  },
  {
   "cell_type": "markdown",
   "metadata": {},
   "source": [
    "__Write a function `evolve(S::Vector[Agent])::Vector[Agent]` which takes the population in a given state and returns the same population with updated health status.__\n",
    "\n"
   ]
  },
  {
   "cell_type": "code",
   "execution_count": 57,
   "metadata": {},
   "outputs": [
    {
     "data": {
      "text/plain": [
       "evolve (generic function with 1 method)"
      ]
     },
     "execution_count": 57,
     "metadata": {},
     "output_type": "execute_result"
    }
   ],
   "source": [
    "function evolve(S::Vector{Agent})\n",
    "    new_S = Agent[]\n",
    "    for i in eachindex(S)\n",
    "        x = S[i].x\n",
    "        y = S[i].y\n",
    "        h = S[i].z\n",
    "        \n",
    "        if h ==\"R\"\n",
    "            new_h = \"R\"\n",
    "        elseif h ==\"I\"\n",
    "            p = rand()\n",
    "            \n",
    "            if p <= Π\n",
    "                new_h = \"R\"\n",
    "            else\n",
    "                new_h = \"I\"\n",
    "            end\n",
    "    \n",
    "        \n",
    "        else\n",
    "            new_h = \"S\"\n",
    "            i = 1\n",
    "            while i <= length(S)\n",
    "                if euclidean([S[i].x,S[i].y],[x,y]) < r\n",
    "                    \n",
    "                    if S[i].z == \"I\"\n",
    "                        p = rand()\n",
    "                        if p <= μ\n",
    "                            new_h = \"I\"\n",
    "                            i = length(S)+1\n",
    "                        else\n",
    "                            i=i+1\n",
    "                        end\n",
    "                    else\n",
    "                        i=i+1\n",
    "                    end\n",
    "                end \n",
    "                i=i+1 \n",
    "            end\n",
    "        end       \n",
    "        push!(new_S,Agent(x,y,new_h))\n",
    "    end\n",
    "    return new_S\n",
    "    \n",
    "end"
   ]
  },
  {
   "cell_type": "code",
   "execution_count": 58,
   "metadata": {},
   "outputs": [
    {
     "data": {
      "text/plain": [
       "4-element Array{Agent,1}:\n",
       " Agent(0.1, 0.3, \"I\")\n",
       " Agent(0.2, 0.2, \"R\")\n",
       " Agent(0.3, 0.8, \"S\")\n",
       " Agent(0.0, 0.73, \"S\")"
      ]
     },
     "execution_count": 58,
     "metadata": {},
     "output_type": "execute_result"
    }
   ],
   "source": [
    "\n",
    "S = [T1,T2,T3,T4]\n",
    "\n",
    "S2 = evolve(S)\n",
    "S3 = evolve(S2)\n",
    "S4 = evolve(S3)\n",
    "S4"
   ]
  },
  {
   "cell_type": "markdown",
   "metadata": {},
   "source": [
    "__Write a function `simulate(S0::Vector[Agent], k=1)` to simulate the economy starting from an initially random position with `k` infected individuals. The returned object should be of type `Vector[Vector[Agent]]`.__\n",
    "\n"
   ]
  },
  {
   "cell_type": "code",
   "execution_count": 59,
   "metadata": {},
   "outputs": [
    {
     "data": {
      "text/plain": [
       "simulate (generic function with 1 method)"
      ]
     },
     "execution_count": 59,
     "metadata": {},
     "output_type": "execute_result"
    }
   ],
   "source": [
    "periods = 50\n",
    "nb_agent = 50\n",
    "#states = [\"S\",\"R\"]\n",
    "states2 = [\"S\"]\n",
    "function simulate(k)\n",
    "    S0 = Agent[]\n",
    "    \n",
    "    for infected in 1:k\n",
    "        \n",
    "        z = \"I\"\n",
    "        x = rand(Uniform(0.0,1.0))\n",
    "        y = rand(Uniform(0.0,1.0))\n",
    "        push!(S0,Agent(x,y,z))\n",
    "    end\n",
    "    \n",
    "    for i in 1:nb_agent-k\n",
    "        #state_i = rand(1:2)\n",
    "        #z = states[state_i]\n",
    "        z2 = \"S\"\n",
    "        x = rand(Uniform(0.0,1.0))\n",
    "        y = rand(Uniform(0.0,1.0))\n",
    "        push!(S0,Agent(x,y,z2))\n",
    "    end\n",
    "    \n",
    "    St_evolution = [S0]\n",
    "    for t in 1:periods-1\n",
    "        St = St_evolution[t]\n",
    "        S_t_position_updated = spatial_transition(St)\n",
    "        S_t_heatlh_updtated = evolve(S_t_position_updated)\n",
    "        push!(St_evolution, S_t_heatlh_updtated)\n",
    "    end\n",
    "    return St_evolution\n",
    "end\n",
    "        \n",
    "        \n",
    "        "
   ]
  },
  {
   "cell_type": "markdown",
   "metadata": {},
   "source": [
    "__Compute statistics along a simulated path for $n_I$, $n_S$, $n_R$. Plot and compare with the basic SIR model__"
   ]
  },
  {
   "cell_type": "code",
   "execution_count": 60,
   "metadata": {},
   "outputs": [
    {
     "data": {
      "text/plain": [
       "statistics (generic function with 1 method)"
      ]
     },
     "execution_count": 60,
     "metadata": {},
     "output_type": "execute_result"
    }
   ],
   "source": [
    "function statistics(St_evolution)\n",
    "    stat = []\n",
    "    \n",
    "    for i in eachindex(St_evolution)\n",
    "        \n",
    "        state = St_evolution[i]\n",
    "        nI = 0\n",
    "        nS = 0\n",
    "        nR = 0\n",
    "       # println(state)\n",
    "        for k in eachindex(state)\n",
    "            #println(\"ok\")\n",
    "            if state[k].z ==\"I\"\n",
    "                nI+=1\n",
    "            elseif state[k].z ==\"R\"\n",
    "                nR+=1\n",
    "            else \n",
    "                nS+=1\n",
    "            end\n",
    "            \n",
    "        end\n",
    "        push!(stat,[nS,nI,nR])\n",
    "    end\n",
    "    \n",
    "    return stat\n",
    "end\n",
    "        \n",
    "            \n",
    "    "
   ]
  },
  {
   "cell_type": "code",
   "execution_count": 61,
   "metadata": {},
   "outputs": [
    {
     "data": {
      "text/plain": [
       "50-element Array{Any,1}:\n",
       " [48, 2, 0]\n",
       " [46, 4, 0]\n",
       " [45, 5, 0]\n",
       " [43, 6, 1]\n",
       " [42, 7, 1]\n",
       " [41, 7, 2]\n",
       " [40, 8, 2]\n",
       " [35, 12, 3]\n",
       " [31, 16, 3]\n",
       " [24, 23, 3]\n",
       " [19, 28, 3]\n",
       " [14, 30, 6]\n",
       " [13, 29, 8]\n",
       " ⋮\n",
       " [0, 9, 41]\n",
       " [0, 9, 41]\n",
       " [0, 9, 41]\n",
       " [0, 7, 43]\n",
       " [0, 6, 44]\n",
       " [0, 6, 44]\n",
       " [0, 6, 44]\n",
       " [0, 5, 45]\n",
       " [0, 5, 45]\n",
       " [0, 5, 45]\n",
       " [0, 5, 45]\n",
       " [0, 4, 46]"
      ]
     },
     "execution_count": 61,
     "metadata": {},
     "output_type": "execute_result"
    }
   ],
   "source": [
    "st = simulate(2)\n",
    "#println(st)\n",
    "for t in eachindex(st)\n",
    "    map = st[t]\n",
    "    show_population(map)\n",
    "end\n",
    "numbers = statistics(st)\n"
   ]
  },
  {
   "cell_type": "code",
   "execution_count": 62,
   "metadata": {},
   "outputs": [
    {
     "data": {
      "image/svg+xml": [
       "<?xml version=\"1.0\" encoding=\"utf-8\"?>\n",
       "<svg xmlns=\"http://www.w3.org/2000/svg\" xmlns:xlink=\"http://www.w3.org/1999/xlink\" width=\"600\" height=\"400\" viewBox=\"0 0 2400 1600\">\n",
       "<defs>\n",
       "  <clipPath id=\"clip0600\">\n",
       "    <rect x=\"0\" y=\"0\" width=\"2400\" height=\"1600\"/>\n",
       "  </clipPath>\n",
       "</defs>\n",
       "<path clip-path=\"url(#clip0600)\" d=\"\n",
       "M0 1600 L2400 1600 L2400 0 L0 0  Z\n",
       "  \" fill=\"#ffffff\" fill-rule=\"evenodd\" fill-opacity=\"1\"/>\n",
       "<defs>\n",
       "  <clipPath id=\"clip0601\">\n",
       "    <rect x=\"480\" y=\"0\" width=\"1681\" height=\"1600\"/>\n",
       "  </clipPath>\n",
       "</defs>\n",
       "<path clip-path=\"url(#clip0600)\" d=\"\n",
       "M140.517 1487.47 L2352.76 1487.47 L2352.76 121.675 L140.517 121.675  Z\n",
       "  \" fill=\"#ffffff\" fill-rule=\"evenodd\" fill-opacity=\"1\"/>\n",
       "<defs>\n",
       "  <clipPath id=\"clip0602\">\n",
       "    <rect x=\"140\" y=\"121\" width=\"2213\" height=\"1367\"/>\n",
       "  </clipPath>\n",
       "</defs>\n",
       "<polyline clip-path=\"url(#clip0602)\" style=\"stroke:#000000; stroke-width:2; stroke-opacity:0.1; fill:none\" points=\"\n",
       "  160.535,1487.47 160.535,121.675 \n",
       "  \"/>\n",
       "<polyline clip-path=\"url(#clip0602)\" style=\"stroke:#000000; stroke-width:2; stroke-opacity:0.1; fill:none\" points=\"\n",
       "  586.457,1487.47 586.457,121.675 \n",
       "  \"/>\n",
       "<polyline clip-path=\"url(#clip0602)\" style=\"stroke:#000000; stroke-width:2; stroke-opacity:0.1; fill:none\" points=\"\n",
       "  1012.38,1487.47 1012.38,121.675 \n",
       "  \"/>\n",
       "<polyline clip-path=\"url(#clip0602)\" style=\"stroke:#000000; stroke-width:2; stroke-opacity:0.1; fill:none\" points=\"\n",
       "  1438.3,1487.47 1438.3,121.675 \n",
       "  \"/>\n",
       "<polyline clip-path=\"url(#clip0602)\" style=\"stroke:#000000; stroke-width:2; stroke-opacity:0.1; fill:none\" points=\"\n",
       "  1864.22,1487.47 1864.22,121.675 \n",
       "  \"/>\n",
       "<polyline clip-path=\"url(#clip0602)\" style=\"stroke:#000000; stroke-width:2; stroke-opacity:0.1; fill:none\" points=\"\n",
       "  2290.15,1487.47 2290.15,121.675 \n",
       "  \"/>\n",
       "<polyline clip-path=\"url(#clip0602)\" style=\"stroke:#000000; stroke-width:2; stroke-opacity:0.1; fill:none\" points=\"\n",
       "  140.517,1448.82 2352.76,1448.82 \n",
       "  \"/>\n",
       "<polyline clip-path=\"url(#clip0602)\" style=\"stroke:#000000; stroke-width:2; stroke-opacity:0.1; fill:none\" points=\"\n",
       "  140.517,1180.38 2352.76,1180.38 \n",
       "  \"/>\n",
       "<polyline clip-path=\"url(#clip0602)\" style=\"stroke:#000000; stroke-width:2; stroke-opacity:0.1; fill:none\" points=\"\n",
       "  140.517,911.949 2352.76,911.949 \n",
       "  \"/>\n",
       "<polyline clip-path=\"url(#clip0602)\" style=\"stroke:#000000; stroke-width:2; stroke-opacity:0.1; fill:none\" points=\"\n",
       "  140.517,643.514 2352.76,643.514 \n",
       "  \"/>\n",
       "<polyline clip-path=\"url(#clip0602)\" style=\"stroke:#000000; stroke-width:2; stroke-opacity:0.1; fill:none\" points=\"\n",
       "  140.517,375.078 2352.76,375.078 \n",
       "  \"/>\n",
       "<polyline clip-path=\"url(#clip0600)\" style=\"stroke:#000000; stroke-width:4; stroke-opacity:1; fill:none\" points=\"\n",
       "  140.517,1487.47 2352.76,1487.47 \n",
       "  \"/>\n",
       "<polyline clip-path=\"url(#clip0600)\" style=\"stroke:#000000; stroke-width:4; stroke-opacity:1; fill:none\" points=\"\n",
       "  140.517,1487.47 140.517,121.675 \n",
       "  \"/>\n",
       "<polyline clip-path=\"url(#clip0600)\" style=\"stroke:#000000; stroke-width:4; stroke-opacity:1; fill:none\" points=\"\n",
       "  160.535,1487.47 160.535,1471.09 \n",
       "  \"/>\n",
       "<polyline clip-path=\"url(#clip0600)\" style=\"stroke:#000000; stroke-width:4; stroke-opacity:1; fill:none\" points=\"\n",
       "  586.457,1487.47 586.457,1471.09 \n",
       "  \"/>\n",
       "<polyline clip-path=\"url(#clip0600)\" style=\"stroke:#000000; stroke-width:4; stroke-opacity:1; fill:none\" points=\"\n",
       "  1012.38,1487.47 1012.38,1471.09 \n",
       "  \"/>\n",
       "<polyline clip-path=\"url(#clip0600)\" style=\"stroke:#000000; stroke-width:4; stroke-opacity:1; fill:none\" points=\"\n",
       "  1438.3,1487.47 1438.3,1471.09 \n",
       "  \"/>\n",
       "<polyline clip-path=\"url(#clip0600)\" style=\"stroke:#000000; stroke-width:4; stroke-opacity:1; fill:none\" points=\"\n",
       "  1864.22,1487.47 1864.22,1471.09 \n",
       "  \"/>\n",
       "<polyline clip-path=\"url(#clip0600)\" style=\"stroke:#000000; stroke-width:4; stroke-opacity:1; fill:none\" points=\"\n",
       "  2290.15,1487.47 2290.15,1471.09 \n",
       "  \"/>\n",
       "<polyline clip-path=\"url(#clip0600)\" style=\"stroke:#000000; stroke-width:4; stroke-opacity:1; fill:none\" points=\"\n",
       "  140.517,1448.82 167.064,1448.82 \n",
       "  \"/>\n",
       "<polyline clip-path=\"url(#clip0600)\" style=\"stroke:#000000; stroke-width:4; stroke-opacity:1; fill:none\" points=\"\n",
       "  140.517,1180.38 167.064,1180.38 \n",
       "  \"/>\n",
       "<polyline clip-path=\"url(#clip0600)\" style=\"stroke:#000000; stroke-width:4; stroke-opacity:1; fill:none\" points=\"\n",
       "  140.517,911.949 167.064,911.949 \n",
       "  \"/>\n",
       "<polyline clip-path=\"url(#clip0600)\" style=\"stroke:#000000; stroke-width:4; stroke-opacity:1; fill:none\" points=\"\n",
       "  140.517,643.514 167.064,643.514 \n",
       "  \"/>\n",
       "<polyline clip-path=\"url(#clip0600)\" style=\"stroke:#000000; stroke-width:4; stroke-opacity:1; fill:none\" points=\"\n",
       "  140.517,375.078 167.064,375.078 \n",
       "  \"/>\n",
       "<g clip-path=\"url(#clip0600)\">\n",
       "<text style=\"fill:#000000; fill-opacity:1; font-family:Arial,Helvetica Neue,Helvetica,sans-serif; font-size:48px; text-anchor:middle;\" transform=\"rotate(0, 160.535, 1541.47)\" x=\"160.535\" y=\"1541.47\">0</text>\n",
       "</g>\n",
       "<g clip-path=\"url(#clip0600)\">\n",
       "<text style=\"fill:#000000; fill-opacity:1; font-family:Arial,Helvetica Neue,Helvetica,sans-serif; font-size:48px; text-anchor:middle;\" transform=\"rotate(0, 586.457, 1541.47)\" x=\"586.457\" y=\"1541.47\">10</text>\n",
       "</g>\n",
       "<g clip-path=\"url(#clip0600)\">\n",
       "<text style=\"fill:#000000; fill-opacity:1; font-family:Arial,Helvetica Neue,Helvetica,sans-serif; font-size:48px; text-anchor:middle;\" transform=\"rotate(0, 1012.38, 1541.47)\" x=\"1012.38\" y=\"1541.47\">20</text>\n",
       "</g>\n",
       "<g clip-path=\"url(#clip0600)\">\n",
       "<text style=\"fill:#000000; fill-opacity:1; font-family:Arial,Helvetica Neue,Helvetica,sans-serif; font-size:48px; text-anchor:middle;\" transform=\"rotate(0, 1438.3, 1541.47)\" x=\"1438.3\" y=\"1541.47\">30</text>\n",
       "</g>\n",
       "<g clip-path=\"url(#clip0600)\">\n",
       "<text style=\"fill:#000000; fill-opacity:1; font-family:Arial,Helvetica Neue,Helvetica,sans-serif; font-size:48px; text-anchor:middle;\" transform=\"rotate(0, 1864.22, 1541.47)\" x=\"1864.22\" y=\"1541.47\">40</text>\n",
       "</g>\n",
       "<g clip-path=\"url(#clip0600)\">\n",
       "<text style=\"fill:#000000; fill-opacity:1; font-family:Arial,Helvetica Neue,Helvetica,sans-serif; font-size:48px; text-anchor:middle;\" transform=\"rotate(0, 2290.15, 1541.47)\" x=\"2290.15\" y=\"1541.47\">50</text>\n",
       "</g>\n",
       "<g clip-path=\"url(#clip0600)\">\n",
       "<text style=\"fill:#000000; fill-opacity:1; font-family:Arial,Helvetica Neue,Helvetica,sans-serif; font-size:48px; text-anchor:end;\" transform=\"rotate(0, 116.517, 1466.32)\" x=\"116.517\" y=\"1466.32\">0</text>\n",
       "</g>\n",
       "<g clip-path=\"url(#clip0600)\">\n",
       "<text style=\"fill:#000000; fill-opacity:1; font-family:Arial,Helvetica Neue,Helvetica,sans-serif; font-size:48px; text-anchor:end;\" transform=\"rotate(0, 116.517, 1197.88)\" x=\"116.517\" y=\"1197.88\">10</text>\n",
       "</g>\n",
       "<g clip-path=\"url(#clip0600)\">\n",
       "<text style=\"fill:#000000; fill-opacity:1; font-family:Arial,Helvetica Neue,Helvetica,sans-serif; font-size:48px; text-anchor:end;\" transform=\"rotate(0, 116.517, 929.449)\" x=\"116.517\" y=\"929.449\">20</text>\n",
       "</g>\n",
       "<g clip-path=\"url(#clip0600)\">\n",
       "<text style=\"fill:#000000; fill-opacity:1; font-family:Arial,Helvetica Neue,Helvetica,sans-serif; font-size:48px; text-anchor:end;\" transform=\"rotate(0, 116.517, 661.014)\" x=\"116.517\" y=\"661.014\">30</text>\n",
       "</g>\n",
       "<g clip-path=\"url(#clip0600)\">\n",
       "<text style=\"fill:#000000; fill-opacity:1; font-family:Arial,Helvetica Neue,Helvetica,sans-serif; font-size:48px; text-anchor:end;\" transform=\"rotate(0, 116.517, 392.578)\" x=\"116.517\" y=\"392.578\">40</text>\n",
       "</g>\n",
       "<g clip-path=\"url(#clip0600)\">\n",
       "<text style=\"fill:#000000; fill-opacity:1; font-family:Arial,Helvetica Neue,Helvetica,sans-serif; font-size:84px; text-anchor:middle;\" transform=\"rotate(0, 1246.64, 73.2)\" x=\"1246.64\" y=\"73.2\">Graphical representation of population dynamics</text>\n",
       "</g>\n",
       "<polyline clip-path=\"url(#clip0602)\" style=\"stroke:#009af9; stroke-width:4; stroke-opacity:1; fill:none\" points=\"\n",
       "  203.127,160.33 245.72,214.017 288.312,240.86 330.904,294.548 373.496,321.391 416.088,348.235 458.681,375.078 501.273,509.296 543.865,616.67 586.457,804.575 \n",
       "  629.049,938.793 671.642,1073.01 714.234,1099.85 756.826,1234.07 799.418,1341.45 842.01,1421.98 884.603,1421.98 927.195,1421.98 969.787,1448.82 1012.38,1448.82 \n",
       "  1054.97,1448.82 1097.56,1448.82 1140.16,1448.82 1182.75,1448.82 1225.34,1448.82 1267.93,1448.82 1310.52,1448.82 1353.12,1448.82 1395.71,1448.82 1438.3,1448.82 \n",
       "  1480.89,1448.82 1523.49,1448.82 1566.08,1448.82 1608.67,1448.82 1651.26,1448.82 1693.85,1448.82 1736.45,1448.82 1779.04,1448.82 1821.63,1448.82 1864.22,1448.82 \n",
       "  1906.82,1448.82 1949.41,1448.82 1992,1448.82 2034.59,1448.82 2077.18,1448.82 2119.78,1448.82 2162.37,1448.82 2204.96,1448.82 2247.55,1448.82 2290.15,1448.82 \n",
       "  \n",
       "  \"/>\n",
       "<polyline clip-path=\"url(#clip0602)\" style=\"stroke:#e26f46; stroke-width:4; stroke-opacity:1; fill:none\" points=\"\n",
       "  203.127,1395.13 245.72,1341.45 288.312,1314.6 330.904,1287.76 373.496,1260.92 416.088,1260.92 458.681,1234.07 501.273,1126.7 543.865,1019.32 586.457,831.418 \n",
       "  629.049,697.201 671.642,643.514 714.234,670.357 756.826,562.983 799.418,509.296 842.01,509.296 884.603,509.296 927.195,536.139 969.787,536.139 1012.38,616.67 \n",
       "  1054.97,697.201 1097.56,724.044 1140.16,750.888 1182.75,750.888 1225.34,804.575 1267.93,858.262 1310.52,938.793 1353.12,938.793 1395.71,1019.32 1438.3,1046.17 \n",
       "  1480.89,1046.17 1523.49,1046.17 1566.08,1073.01 1608.67,1073.01 1651.26,1126.7 1693.85,1126.7 1736.45,1126.7 1779.04,1153.54 1821.63,1207.23 1864.22,1207.23 \n",
       "  1906.82,1207.23 1949.41,1260.92 1992,1287.76 2034.59,1287.76 2077.18,1287.76 2119.78,1314.6 2162.37,1314.6 2204.96,1314.6 2247.55,1314.6 2290.15,1341.45 \n",
       "  \n",
       "  \"/>\n",
       "<polyline clip-path=\"url(#clip0602)\" style=\"stroke:#3da44d; stroke-width:4; stroke-opacity:1; fill:none\" points=\"\n",
       "  203.127,1448.82 245.72,1448.82 288.312,1448.82 330.904,1421.98 373.496,1421.98 416.088,1395.13 458.681,1395.13 501.273,1368.29 543.865,1368.29 586.457,1368.29 \n",
       "  629.049,1368.29 671.642,1287.76 714.234,1234.07 756.826,1207.23 799.418,1153.54 842.01,1073.01 884.603,1073.01 927.195,1046.17 969.787,1019.32 1012.38,938.793 \n",
       "  1054.97,858.262 1097.56,831.418 1140.16,804.575 1182.75,804.575 1225.34,750.888 1267.93,697.201 1310.52,616.67 1353.12,616.67 1395.71,536.139 1438.3,509.296 \n",
       "  1480.89,509.296 1523.49,509.296 1566.08,482.452 1608.67,482.452 1651.26,428.765 1693.85,428.765 1736.45,428.765 1779.04,401.922 1821.63,348.235 1864.22,348.235 \n",
       "  1906.82,348.235 1949.41,294.548 1992,267.704 2034.59,267.704 2077.18,267.704 2119.78,240.86 2162.37,240.86 2204.96,240.86 2247.55,240.86 2290.15,214.017 \n",
       "  \n",
       "  \"/>\n",
       "<path clip-path=\"url(#clip0600)\" d=\"\n",
       "M1634.07 447.115 L2280.76 447.115 L2280.76 205.195 L1634.07 205.195  Z\n",
       "  \" fill=\"#ffffff\" fill-rule=\"evenodd\" fill-opacity=\"1\"/>\n",
       "<polyline clip-path=\"url(#clip0600)\" style=\"stroke:#000000; stroke-width:4; stroke-opacity:1; fill:none\" points=\"\n",
       "  1634.07,447.115 2280.76,447.115 2280.76,205.195 1634.07,205.195 1634.07,447.115 \n",
       "  \"/>\n",
       "<polyline clip-path=\"url(#clip0600)\" style=\"stroke:#009af9; stroke-width:4; stroke-opacity:1; fill:none\" points=\"\n",
       "  1658.07,265.675 1802.07,265.675 \n",
       "  \"/>\n",
       "<g clip-path=\"url(#clip0600)\">\n",
       "<text style=\"fill:#000000; fill-opacity:1; font-family:Arial,Helvetica Neue,Helvetica,sans-serif; font-size:48px; text-anchor:start;\" transform=\"rotate(0, 1826.07, 283.175)\" x=\"1826.07\" y=\"283.175\">Susceptible people</text>\n",
       "</g>\n",
       "<polyline clip-path=\"url(#clip0600)\" style=\"stroke:#e26f46; stroke-width:4; stroke-opacity:1; fill:none\" points=\"\n",
       "  1658.07,326.155 1802.07,326.155 \n",
       "  \"/>\n",
       "<g clip-path=\"url(#clip0600)\">\n",
       "<text style=\"fill:#000000; fill-opacity:1; font-family:Arial,Helvetica Neue,Helvetica,sans-serif; font-size:48px; text-anchor:start;\" transform=\"rotate(0, 1826.07, 343.655)\" x=\"1826.07\" y=\"343.655\">Infected people</text>\n",
       "</g>\n",
       "<polyline clip-path=\"url(#clip0600)\" style=\"stroke:#3da44d; stroke-width:4; stroke-opacity:1; fill:none\" points=\"\n",
       "  1658.07,386.635 1802.07,386.635 \n",
       "  \"/>\n",
       "<g clip-path=\"url(#clip0600)\">\n",
       "<text style=\"fill:#000000; fill-opacity:1; font-family:Arial,Helvetica Neue,Helvetica,sans-serif; font-size:48px; text-anchor:start;\" transform=\"rotate(0, 1826.07, 404.135)\" x=\"1826.07\" y=\"404.135\">Recovered people</text>\n",
       "</g>\n",
       "</svg>\n"
      ]
     },
     "execution_count": 62,
     "metadata": {},
     "output_type": "execute_result"
    }
   ],
   "source": [
    "data_x = 1:periods\n",
    "data_y = [[el[1] for el in numbers],[el[2] for el in numbers],[el[3] for el in numbers]]\n",
    "\n",
    "p = plot(data_x, data_y, \n",
    "     title = \"Graphical representation of population dynamics\", ## adding a title\n",
    "     label = [ \"Susceptible people\" \"Infected people\"  \"Recovered people\"]) ## adding legend labels"
   ]
  },
  {
   "cell_type": "markdown",
   "metadata": {},
   "source": [
    "### Additional questions\n",
    "\n",
    "Have fun by trying to answer one of these questions:\n",
    "- change probability of infection so that it depends on the number of infected people in the vincinity (with some suitable functional formulation for)\n",
    "- compute an animation of the transition\n",
    "- compute an interactive visualisation (with `Interact.jl` if available)"
   ]
  },
  {
   "cell_type": "code",
   "execution_count": null,
   "metadata": {},
   "outputs": [],
   "source": []
  },
  {
   "cell_type": "code",
   "execution_count": null,
   "metadata": {},
   "outputs": [],
   "source": []
  },
  {
   "cell_type": "code",
   "execution_count": null,
   "metadata": {},
   "outputs": [],
   "source": []
  },
  {
   "cell_type": "code",
   "execution_count": null,
   "metadata": {},
   "outputs": [],
   "source": []
  },
  {
   "cell_type": "code",
   "execution_count": null,
   "metadata": {},
   "outputs": [],
   "source": []
  }
 ],
 "metadata": {
  "kernelspec": {
   "display_name": "Julia 1.4.1",
   "language": "julia",
   "name": "julia-1.4"
  },
  "language_info": {
   "file_extension": ".jl",
   "mimetype": "application/julia",
   "name": "julia",
   "version": "1.4.1"
  }
 },
 "nbformat": 4,
 "nbformat_minor": 4
}
